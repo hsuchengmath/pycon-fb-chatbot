{
 "cells": [
  {
   "cell_type": "code",
   "execution_count": null,
   "id": "1a39411f-1710-43f3-8bfc-08c075f2adcd",
   "metadata": {},
   "outputs": [],
   "source": []
  },
  {
   "cell_type": "code",
   "execution_count": null,
   "id": "38016e8c-3670-4e8c-892b-c317bb8d1d4d",
   "metadata": {},
   "outputs": [],
   "source": []
  },
  {
   "cell_type": "code",
   "execution_count": 6,
   "id": "915d2af4-4a12-4547-a537-8339726f9e1a",
   "metadata": {},
   "outputs": [],
   "source": [
    "docs = ['AI ', 'Travel']\n",
    "query = 'AI big data'"
   ]
  },
  {
   "cell_type": "code",
   "execution_count": null,
   "id": "fe275155-655a-4814-919b-0473dadf581b",
   "metadata": {},
   "outputs": [],
   "source": []
  },
  {
   "cell_type": "code",
   "execution_count": 9,
   "id": "e485b1a7-1705-46dc-97d9-ecd241f041c1",
   "metadata": {},
   "outputs": [
    {
     "name": "stdout",
     "output_type": "stream",
     "text": [
      "rank 1: I see a little fox with another small fox\n",
      "rank 2: The little fox ran home\n",
      "rank 3: dogs are the best \n"
     ]
    }
   ],
   "source": [
    "from gensim.summarization.bm25 import BM25\n",
    "corpus = [\"The little fox ran home\",\n",
    "          \"dogs are the best \",\n",
    "          \"Yet another doc \",\n",
    "          \"I see a little fox with another small fox\",\n",
    "          \"last doc without animals\"]\n",
    "\n",
    "def simple_tok(sent:str):\n",
    "    return sent.split()\n",
    "\n",
    "tok_corpus = [simple_tok(s) for s in corpus]\n",
    "bm25 = BM25(tok_corpus)\n",
    "query = \"a little fox\".split()\n",
    "scores = bm25.get_scores(query)\n",
    "\n",
    "best_docs = sorted(range(len(scores)), key=lambda i: scores[i], reverse=True)[:3]\n",
    "for i, b in enumerate(best_docs):\n",
    "    print(f\"rank {i+1}: {corpus[b]}\")"
   ]
  },
  {
   "cell_type": "code",
   "execution_count": 10,
   "id": "7e811e07-306e-4665-af3c-1951141be03f",
   "metadata": {},
   "outputs": [
    {
     "data": {
      "text/plain": [
       "[0.6729444732424259, 0.0, 0.0, 1.437564024113848, 0.0]"
      ]
     },
     "execution_count": 10,
     "metadata": {},
     "output_type": "execute_result"
    }
   ],
   "source": [
    "scores"
   ]
  },
  {
   "cell_type": "code",
   "execution_count": 31,
   "id": "ee7612b2-30f2-40fb-8305-2cf74a393c5f",
   "metadata": {},
   "outputs": [],
   "source": [
    "from gensim.summarization.bm25 import BM25\n",
    "\n",
    "class FastBM25:\n",
    "    def __init__(self, corpus=list, batch_size=32):\n",
    "        \n",
    "        # word segmentation\n",
    "        self.corpus_ws = self.word_segmentation(corpus=corpus, batch_size=batch_size)\n",
    "        \n",
    "        # lauch bm25 moidel\n",
    "        self.bm25 = BM25(self.corpus_ws)\n",
    "\n",
    "\n",
    "    def word_segmentation(self, corpus=list ,batch_size=int):\n",
    "        # init parameter and container\n",
    "        corpus_ws = []\n",
    "        batch_num = int(len(corpus) / batch_size) + 1\n",
    "        # main\n",
    "        for i in range(batch_num):\n",
    "            batch_corpus = corpus[i*batch_size : (i+1)*batch_size]\n",
    "            batch_corpus_ws = self.word_segmentation_func(batch_corpus=batch_corpus)\n",
    "            corpus_ws += batch_corpus_ws\n",
    "        return corpus_ws\n",
    "    \n",
    "    def word_segmentation_func(self, batch_corpus=list):\n",
    "        batch_corpus_ws = batch_corpus\n",
    "        batch_corpus_ws = [sent.split() for sent in batch_corpus]\n",
    "        return batch_corpus_ws\n",
    "    \n",
    "    \n",
    "    def main(self, query=str):\n",
    "        query_ws = self.word_segmentation_func(batch_corpus=[query])[0]\n",
    "        scores = self.bm25.get_scores(query_ws)\n",
    "        corpsu_with_score = [[sent_ws, scores[i]] for i, sent_ws in enumerate(self.corpus_ws)]\n",
    "        corpsu_with_score = sorted(corpsu_with_score, reverse=True, key=lambda x:x[1])\n",
    "        return corpsu_with_score\n",
    "        "
   ]
  },
  {
   "cell_type": "code",
   "execution_count": 32,
   "id": "21f6e59e-ad57-4b9a-a7e6-1bc038e89f17",
   "metadata": {},
   "outputs": [
    {
     "data": {
      "text/plain": [
       "[[['I', 'see', 'a', 'little', 'fox', 'with', 'another', 'small', 'fox'],\n",
       "  1.437564024113848],\n",
       " [['The', 'little', 'fox', 'ran', 'home'], 0.6729444732424259],\n",
       " [['dogs', 'are', 'the', 'best'], 0.0],\n",
       " [['Yet', 'another', 'doc'], 0.0],\n",
       " [['last', 'doc', 'without', 'animals'], 0.0]]"
      ]
     },
     "execution_count": 32,
     "metadata": {},
     "output_type": "execute_result"
    }
   ],
   "source": [
    "corpus = [\"The little fox ran home\",\n",
    "          \"dogs are the best \",\n",
    "          \"Yet another doc \",\n",
    "          \"I see a little fox with another small fox\",\n",
    "          \"last doc without animals\"]\n",
    "\n",
    "fast_bm25_model = FastBM25(corpus=corpus, batch_size=3)\n",
    "fast_bm25_model.main(query=\"a little fox\")"
   ]
  },
  {
   "cell_type": "code",
   "execution_count": null,
   "id": "fd09cbba-1a3b-4963-af65-72c252bbcb07",
   "metadata": {},
   "outputs": [],
   "source": []
  },
  {
   "cell_type": "code",
   "execution_count": null,
   "id": "70d0d5f0-504a-4728-b3ee-36ce005bb71e",
   "metadata": {},
   "outputs": [],
   "source": []
  }
 ],
 "metadata": {
  "kernelspec": {
   "display_name": "Python 3",
   "language": "python",
   "name": "python3"
  },
  "language_info": {
   "codemirror_mode": {
    "name": "ipython",
    "version": 3
   },
   "file_extension": ".py",
   "mimetype": "text/x-python",
   "name": "python",
   "nbconvert_exporter": "python",
   "pygments_lexer": "ipython3",
   "version": "3.6.9"
  }
 },
 "nbformat": 4,
 "nbformat_minor": 5
}
