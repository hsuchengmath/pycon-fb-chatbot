{
 "cells": [
  {
   "cell_type": "code",
   "execution_count": null,
   "id": "1a39411f-1710-43f3-8bfc-08c075f2adcd",
   "metadata": {},
   "outputs": [],
   "source": []
  },
  {
   "cell_type": "code",
   "execution_count": 43,
   "id": "38016e8c-3670-4e8c-892b-c317bb8d1d4d",
   "metadata": {},
   "outputs": [
    {
     "data": {
      "text/plain": [
       "'\\nPyHug 簡介： 歡迎來到 PyHUG。我們是一群活動於新竹周邊的 Python 程式員。 \\n我們會定期舉辦技術討論與程式設計的聚會。非常歡迎你加入我們！\\n'"
      ]
     },
     "execution_count": 43,
     "metadata": {},
     "output_type": "execute_result"
    }
   ],
   "source": [
    "sent"
   ]
  },
  {
   "cell_type": "code",
   "execution_count": 59,
   "id": "a6e2224a-befd-4235-9663-903b4e5d470a",
   "metadata": {},
   "outputs": [],
   "source": [
    "sent = '''\n",
    "PyHug 簡介： 歡迎來到 PyHUG。我們是一群活動於新竹周邊的 Python 程式員。 \n",
    "我們會定期舉辦技術討論與程式設計的聚會。非常歡迎你加入我們！\n",
    "'''"
   ]
  },
  {
   "cell_type": "code",
   "execution_count": 60,
   "id": "87fe035c-bcab-44de-aba3-e464bee00042",
   "metadata": {},
   "outputs": [],
   "source": [
    "seg_list = jieba.cut(sent)\n",
    "a = list(seg_list)"
   ]
  },
  {
   "cell_type": "code",
   "execution_count": 61,
   "id": "03b024da-db83-4c6e-8252-7b06bffb7241",
   "metadata": {},
   "outputs": [
    {
     "data": {
      "text/plain": [
       "['\\n',\n",
       " 'PyHug',\n",
       " ' ',\n",
       " '簡介',\n",
       " '：',\n",
       " ' ',\n",
       " '歡迎',\n",
       " '來到',\n",
       " ' ',\n",
       " 'PyHUG',\n",
       " '。',\n",
       " '我們',\n",
       " '是',\n",
       " '一群',\n",
       " '活動',\n",
       " '於',\n",
       " '新竹',\n",
       " '周邊',\n",
       " '的',\n",
       " ' ',\n",
       " 'Python',\n",
       " ' ',\n",
       " '程式',\n",
       " '員',\n",
       " '。',\n",
       " ' ',\n",
       " '\\n',\n",
       " '我們',\n",
       " '會',\n",
       " '定期',\n",
       " '舉辦',\n",
       " '技術',\n",
       " '討論',\n",
       " '與',\n",
       " '程式',\n",
       " '設計',\n",
       " '的',\n",
       " '聚會',\n",
       " '。',\n",
       " '非常',\n",
       " '歡迎',\n",
       " '你',\n",
       " '加入',\n",
       " '我們',\n",
       " '！',\n",
       " '\\n']"
      ]
     },
     "execution_count": 61,
     "metadata": {},
     "output_type": "execute_result"
    }
   ],
   "source": [
    "a"
   ]
  },
  {
   "cell_type": "code",
   "execution_count": null,
   "id": "91aa69a4-1f71-4cfd-a060-afa01c620074",
   "metadata": {},
   "outputs": [],
   "source": []
  },
  {
   "cell_type": "code",
   "execution_count": null,
   "id": "d7e59717-2b83-4fab-acc0-2b065bb0105a",
   "metadata": {},
   "outputs": [],
   "source": []
  },
  {
   "cell_type": "code",
   "execution_count": 53,
   "id": "2eab642a-22e5-4a34-8ef0-e2f9cb4a9291",
   "metadata": {},
   "outputs": [
    {
     "name": "stdout",
     "output_type": "stream",
     "text": [
      "\n",
      " / PyHug /   / 簡介 / ： /   / 歡迎 / 來到 /   / PyHUG / 。 / 我們 / 是 / 一群 / 活動 / 於 / 新竹 / 周邊 / 的 /   / Python /   / 程式 / 員 / 。 /   / \n",
      " / 我們 / 會 / 定期 / 舉辦 / 技術 / 討論 / 與 / 程式 / 設計 / 的 / 聚會 / 。 / 非常 / 歡迎 / 你 / 加入 / 我們 / ！ / \n",
      "\n"
     ]
    }
   ],
   "source": [
    "import jieba\n",
    "#jieba.case_sensitive = True\n",
    "seg_list = jieba.cut(sent)\n",
    "print(\" / \".join(seg_list))"
   ]
  },
  {
   "cell_type": "code",
   "execution_count": null,
   "id": "eff3374c-6dcd-4cbe-975a-aa50a985cdbe",
   "metadata": {},
   "outputs": [],
   "source": []
  },
  {
   "cell_type": "code",
   "execution_count": null,
   "id": "51503b86-456b-4141-be04-86f35030f774",
   "metadata": {},
   "outputs": [],
   "source": []
  },
  {
   "cell_type": "code",
   "execution_count": 6,
   "id": "915d2af4-4a12-4547-a537-8339726f9e1a",
   "metadata": {},
   "outputs": [],
   "source": [
    "docs = ['AI ', 'Travel']\n",
    "query = 'AI big data'"
   ]
  },
  {
   "cell_type": "code",
   "execution_count": null,
   "id": "fe275155-655a-4814-919b-0473dadf581b",
   "metadata": {},
   "outputs": [],
   "source": []
  },
  {
   "cell_type": "code",
   "execution_count": 9,
   "id": "e485b1a7-1705-46dc-97d9-ecd241f041c1",
   "metadata": {},
   "outputs": [
    {
     "name": "stdout",
     "output_type": "stream",
     "text": [
      "rank 1: I see a little fox with another small fox\n",
      "rank 2: The little fox ran home\n",
      "rank 3: dogs are the best \n"
     ]
    }
   ],
   "source": [
    "from gensim.summarization.bm25 import BM25\n",
    "corpus = [\"The little fox ran home\",\n",
    "          \"dogs are the best \",\n",
    "          \"Yet another doc \",\n",
    "          \"I see a little fox with another small fox\",\n",
    "          \"last doc without animals\"]\n",
    "\n",
    "def simple_tok(sent:str):\n",
    "    return sent.split()\n",
    "\n",
    "tok_corpus = [simple_tok(s) for s in corpus]\n",
    "bm25 = BM25(tok_corpus)\n",
    "query = \"a little fox\".split()\n",
    "scores = bm25.get_scores(query)\n",
    "\n",
    "best_docs = sorted(range(len(scores)), key=lambda i: scores[i], reverse=True)[:3]\n",
    "for i, b in enumerate(best_docs):\n",
    "    print(f\"rank {i+1}: {corpus[b]}\")"
   ]
  },
  {
   "cell_type": "code",
   "execution_count": 10,
   "id": "7e811e07-306e-4665-af3c-1951141be03f",
   "metadata": {},
   "outputs": [
    {
     "data": {
      "text/plain": [
       "[0.6729444732424259, 0.0, 0.0, 1.437564024113848, 0.0]"
      ]
     },
     "execution_count": 10,
     "metadata": {},
     "output_type": "execute_result"
    }
   ],
   "source": [
    "scores"
   ]
  },
  {
   "cell_type": "code",
   "execution_count": 31,
   "id": "ee7612b2-30f2-40fb-8305-2cf74a393c5f",
   "metadata": {},
   "outputs": [],
   "source": [
    "from gensim.summarization.bm25 import BM25\n",
    "\n",
    "class FastBM25:\n",
    "    def __init__(self, corpus=list, batch_size=32):\n",
    "        \n",
    "        # word segmentation\n",
    "        self.corpus_ws = self.word_segmentation(corpus=corpus, batch_size=batch_size)\n",
    "        \n",
    "        # lauch bm25 moidel\n",
    "        self.bm25 = BM25(self.corpus_ws)\n",
    "\n",
    "\n",
    "    def word_segmentation(self, corpus=list ,batch_size=int):\n",
    "        # init parameter and container\n",
    "        corpus_ws = []\n",
    "        batch_num = int(len(corpus) / batch_size) + 1\n",
    "        # main\n",
    "        for i in range(batch_num):\n",
    "            batch_corpus = corpus[i*batch_size : (i+1)*batch_size]\n",
    "            batch_corpus_ws = self.word_segmentation_func(batch_corpus=batch_corpus)\n",
    "            corpus_ws += batch_corpus_ws\n",
    "        return corpus_ws\n",
    "    \n",
    "    def word_segmentation_func(self, batch_corpus=list):\n",
    "        batch_corpus_ws = batch_corpus\n",
    "        batch_corpus_ws = [sent.split() for sent in batch_corpus]\n",
    "        return batch_corpus_ws\n",
    "    \n",
    "    \n",
    "    def main(self, query=str):\n",
    "        query_ws = self.word_segmentation_func(batch_corpus=[query])[0]\n",
    "        scores = self.bm25.get_scores(query_ws)\n",
    "        corpsu_with_score = [[sent_ws, scores[i]] for i, sent_ws in enumerate(self.corpus_ws)]\n",
    "        corpsu_with_score = sorted(corpsu_with_score, reverse=True, key=lambda x:x[1])\n",
    "        return corpsu_with_score\n",
    "        "
   ]
  },
  {
   "cell_type": "code",
   "execution_count": 32,
   "id": "21f6e59e-ad57-4b9a-a7e6-1bc038e89f17",
   "metadata": {},
   "outputs": [
    {
     "data": {
      "text/plain": [
       "[[['I', 'see', 'a', 'little', 'fox', 'with', 'another', 'small', 'fox'],\n",
       "  1.437564024113848],\n",
       " [['The', 'little', 'fox', 'ran', 'home'], 0.6729444732424259],\n",
       " [['dogs', 'are', 'the', 'best'], 0.0],\n",
       " [['Yet', 'another', 'doc'], 0.0],\n",
       " [['last', 'doc', 'without', 'animals'], 0.0]]"
      ]
     },
     "execution_count": 32,
     "metadata": {},
     "output_type": "execute_result"
    }
   ],
   "source": [
    "corpus = [\"The little fox ran home\",\n",
    "          \"dogs are the best \",\n",
    "          \"Yet another doc \",\n",
    "          \"I see a little fox with another small fox\",\n",
    "          \"last doc without animals\"]\n",
    "\n",
    "fast_bm25_model = FastBM25(corpus=corpus, batch_size=3)\n",
    "fast_bm25_model.main(query=\"a little fox\")"
   ]
  },
  {
   "cell_type": "code",
   "execution_count": null,
   "id": "fd09cbba-1a3b-4963-af65-72c252bbcb07",
   "metadata": {},
   "outputs": [],
   "source": []
  },
  {
   "cell_type": "code",
   "execution_count": 33,
   "id": "70d0d5f0-504a-4728-b3ee-36ce005bb71e",
   "metadata": {},
   "outputs": [
    {
     "name": "stdout",
     "output_type": "stream",
     "text": [
      "Defaulting to user installation because normal site-packages is not writeable\n",
      "Collecting git+https://github.com/APCLab/jieba-tw.git\n",
      "  Cloning https://github.com/APCLab/jieba-tw.git to /tmp/pip-req-build-ynm_j9o9\n",
      "Building wheels for collected packages: jieba\n",
      "  Building wheel for jieba (setup.py) ... \u001b[?25ldone\n",
      "\u001b[?25h  Created wheel for jieba: filename=jieba-0.39.1-py3-none-any.whl size=6603861 sha256=0040ad8ab51e7de283e1508dbba3f52c8e94577d0746474494a87835a35d990b\n",
      "  Stored in directory: /tmp/pip-ephem-wheel-cache-ixggc6l4/wheels/0b/7e/4f/29923ce193461507849cb722c97a0585787fef5f9982178b91\n",
      "Successfully built jieba\n",
      "Installing collected packages: jieba\n",
      "  Attempting uninstall: jieba\n",
      "    Found existing installation: jieba 0.42.1\n",
      "    Uninstalling jieba-0.42.1:\n",
      "      Successfully uninstalled jieba-0.42.1\n",
      "Successfully installed jieba-0.42.1\n",
      "\u001b[33mWARNING: You are using pip version 20.3.3; however, version 21.3.1 is available.\n",
      "You should consider upgrading via the '/usr/bin/python3 -m pip install --upgrade pip' command.\u001b[0m\n"
     ]
    }
   ],
   "source": [
    "!pip3 install git+https://github.com/APCLab/jieba-tw.git"
   ]
  },
  {
   "cell_type": "code",
   "execution_count": null,
   "id": "47fe108e-43dd-4865-9fee-5332c675d34a",
   "metadata": {},
   "outputs": [],
   "source": []
  }
 ],
 "metadata": {
  "kernelspec": {
   "display_name": "Python 3",
   "language": "python",
   "name": "python3"
  },
  "language_info": {
   "codemirror_mode": {
    "name": "ipython",
    "version": 3
   },
   "file_extension": ".py",
   "mimetype": "text/x-python",
   "name": "python",
   "nbconvert_exporter": "python",
   "pygments_lexer": "ipython3",
   "version": "3.6.9"
  }
 },
 "nbformat": 4,
 "nbformat_minor": 5
}
